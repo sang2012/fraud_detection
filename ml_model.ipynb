{
 "cells": [
  {
   "cell_type": "code",
   "execution_count": 2,
   "id": "9766ed2a",
   "metadata": {},
   "outputs": [
    {
     "name": "stdout",
     "output_type": "stream",
     "text": [
      "test for git branch\n"
     ]
    }
   ],
   "source": [
    "print ('test for git branch')"
   ]
  },
  {
   "cell_type": "code",
   "execution_count": 3,
   "id": "d2f75d3c",
   "metadata": {},
   "outputs": [
    {
     "name": "stdout",
     "output_type": "stream",
     "text": [
      "this is model 1\n"
     ]
    }
   ],
   "source": [
    "#model1\n",
    "print('this is model 1')"
   ]
  },
  {
   "cell_type": "code",
   "execution_count": 4,
   "id": "fe0f88d9",
   "metadata": {},
   "outputs": [
    {
     "name": "stdout",
     "output_type": "stream",
     "text": [
      "this is model 2\n"
     ]
    }
   ],
   "source": [
    "#model2\n",
    "print('this is model 2')"
   ]
  },
  {
   "cell_type": "code",
   "execution_count": 5,
   "id": "7886ed60",
   "metadata": {},
   "outputs": [
    {
     "name": "stdout",
     "output_type": "stream",
     "text": [
      "this is model 3\n"
     ]
    }
   ],
   "source": [
    "#model3\n",
    "print('this is model 3')"
   ]
  },
  {
   "cell_type": "code",
   "execution_count": null,
   "id": "c2e97db5",
   "metadata": {},
   "outputs": [],
   "source": []
  }
 ],
 "metadata": {
  "kernelspec": {
   "display_name": "Python 3 (ipykernel)",
   "language": "python",
   "name": "python3"
  },
  "language_info": {
   "codemirror_mode": {
    "name": "ipython",
    "version": 3
   },
   "file_extension": ".py",
   "mimetype": "text/x-python",
   "name": "python",
   "nbconvert_exporter": "python",
   "pygments_lexer": "ipython3",
   "version": "3.11.5"
  }
 },
 "nbformat": 4,
 "nbformat_minor": 5
}
